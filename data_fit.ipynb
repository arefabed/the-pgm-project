{
 "cells": [
  {
   "cell_type": "code",
   "execution_count": 4,
   "metadata": {},
   "outputs": [],
   "source": [
    "import ast \n",
    "import numpy as np\n",
    "import pandas as pd\n",
    "\n",
    "from sklearn.svm import SVC\n",
    "from sklearn.naive_bayes import GaussianNB\n",
    "from sklearn.naive_bayes import BernoulliNB\n",
    "from sklearn.multiclass import OneVsOneClassifier\n",
    "from sklearn.neural_network import MLPClassifier\n",
    "\n",
    "from sklearn.metrics import recall_score, accuracy_score, precision_score, f1_score, confusion_matrix"
   ]
  },
  {
   "cell_type": "code",
   "execution_count": 5,
   "metadata": {},
   "outputs": [
    {
     "name": "stdout",
     "output_type": "stream",
     "text": [
      " \u001b[0m\u001b[01;32mdata_fit.ipynb\u001b[0m*        \u001b[34;42m'online shoppers'\u001b[0m/   \u001b[01;32mtrain.csv\u001b[0m*\r\n",
      " \u001b[01;32mdata_inspector.ipynb\u001b[0m*   \u001b[01;32mtest.csv\u001b[0m*\r\n"
     ]
    }
   ],
   "source": [
    "%ls "
   ]
  },
  {
   "cell_type": "code",
   "execution_count": 6,
   "metadata": {},
   "outputs": [
    {
     "data": {
      "text/html": [
       "<div>\n",
       "<style scoped>\n",
       "    .dataframe tbody tr th:only-of-type {\n",
       "        vertical-align: middle;\n",
       "    }\n",
       "\n",
       "    .dataframe tbody tr th {\n",
       "        vertical-align: top;\n",
       "    }\n",
       "\n",
       "    .dataframe thead th {\n",
       "        text-align: right;\n",
       "    }\n",
       "</style>\n",
       "<table border=\"1\" class=\"dataframe\">\n",
       "  <thead>\n",
       "    <tr style=\"text-align: right;\">\n",
       "      <th></th>\n",
       "      <th>Administrative_Duration</th>\n",
       "      <th>Informational</th>\n",
       "      <th>Informational_Duration</th>\n",
       "      <th>ProductRelated</th>\n",
       "      <th>ProductRelated_Duration</th>\n",
       "      <th>BounceRates</th>\n",
       "      <th>ExitRates</th>\n",
       "      <th>PageValues</th>\n",
       "      <th>SpecialDay</th>\n",
       "      <th>Month</th>\n",
       "      <th>OperatingSystems</th>\n",
       "      <th>Browser</th>\n",
       "      <th>Region</th>\n",
       "      <th>TrafficType</th>\n",
       "      <th>VisitorType</th>\n",
       "      <th>Weekend</th>\n",
       "      <th>Revenue</th>\n",
       "    </tr>\n",
       "  </thead>\n",
       "  <tbody>\n",
       "    <tr>\n",
       "      <th>0</th>\n",
       "      <td>0.0</td>\n",
       "      <td>7.0</td>\n",
       "      <td>1.0</td>\n",
       "      <td>60</td>\n",
       "      <td>3.0</td>\n",
       "      <td>0.008759</td>\n",
       "      <td>0.028382</td>\n",
       "      <td>0.0</td>\n",
       "      <td>0.0</td>\n",
       "      <td>7</td>\n",
       "      <td>3</td>\n",
       "      <td>2</td>\n",
       "      <td>1</td>\n",
       "      <td>3</td>\n",
       "      <td>2</td>\n",
       "      <td>False</td>\n",
       "      <td>False</td>\n",
       "    </tr>\n",
       "    <tr>\n",
       "      <th>1</th>\n",
       "      <td>0.0</td>\n",
       "      <td>0.0</td>\n",
       "      <td>0.0</td>\n",
       "      <td>94</td>\n",
       "      <td>7.0</td>\n",
       "      <td>0.008844</td>\n",
       "      <td>0.023562</td>\n",
       "      <td>0.0</td>\n",
       "      <td>0.0</td>\n",
       "      <td>7</td>\n",
       "      <td>2</td>\n",
       "      <td>2</td>\n",
       "      <td>1</td>\n",
       "      <td>2</td>\n",
       "      <td>2</td>\n",
       "      <td>False</td>\n",
       "      <td>True</td>\n",
       "    </tr>\n",
       "    <tr>\n",
       "      <th>2</th>\n",
       "      <td>0.0</td>\n",
       "      <td>0.0</td>\n",
       "      <td>0.0</td>\n",
       "      <td>20</td>\n",
       "      <td>0.0</td>\n",
       "      <td>0.000000</td>\n",
       "      <td>0.022222</td>\n",
       "      <td>0.0</td>\n",
       "      <td>0.0</td>\n",
       "      <td>6</td>\n",
       "      <td>2</td>\n",
       "      <td>10</td>\n",
       "      <td>3</td>\n",
       "      <td>3</td>\n",
       "      <td>2</td>\n",
       "      <td>False</td>\n",
       "      <td>False</td>\n",
       "    </tr>\n",
       "    <tr>\n",
       "      <th>3</th>\n",
       "      <td>0.0</td>\n",
       "      <td>2.0</td>\n",
       "      <td>1.0</td>\n",
       "      <td>8</td>\n",
       "      <td>0.0</td>\n",
       "      <td>0.018182</td>\n",
       "      <td>0.033333</td>\n",
       "      <td>5.0</td>\n",
       "      <td>0.0</td>\n",
       "      <td>7</td>\n",
       "      <td>1</td>\n",
       "      <td>1</td>\n",
       "      <td>2</td>\n",
       "      <td>7</td>\n",
       "      <td>2</td>\n",
       "      <td>False</td>\n",
       "      <td>False</td>\n",
       "    </tr>\n",
       "    <tr>\n",
       "      <th>4</th>\n",
       "      <td>0.0</td>\n",
       "      <td>0.0</td>\n",
       "      <td>0.0</td>\n",
       "      <td>6</td>\n",
       "      <td>0.0</td>\n",
       "      <td>0.066667</td>\n",
       "      <td>0.083333</td>\n",
       "      <td>0.0</td>\n",
       "      <td>0.2</td>\n",
       "      <td>6</td>\n",
       "      <td>2</td>\n",
       "      <td>2</td>\n",
       "      <td>2</td>\n",
       "      <td>2</td>\n",
       "      <td>2</td>\n",
       "      <td>False</td>\n",
       "      <td>False</td>\n",
       "    </tr>\n",
       "  </tbody>\n",
       "</table>\n",
       "</div>"
      ],
      "text/plain": [
       "   Administrative_Duration  Informational  Informational_Duration  \\\n",
       "0                      0.0            7.0                     1.0   \n",
       "1                      0.0            0.0                     0.0   \n",
       "2                      0.0            0.0                     0.0   \n",
       "3                      0.0            2.0                     1.0   \n",
       "4                      0.0            0.0                     0.0   \n",
       "\n",
       "   ProductRelated  ProductRelated_Duration  BounceRates  ExitRates  \\\n",
       "0              60                      3.0     0.008759   0.028382   \n",
       "1              94                      7.0     0.008844   0.023562   \n",
       "2              20                      0.0     0.000000   0.022222   \n",
       "3               8                      0.0     0.018182   0.033333   \n",
       "4               6                      0.0     0.066667   0.083333   \n",
       "\n",
       "   PageValues  SpecialDay  Month  OperatingSystems  Browser  Region  \\\n",
       "0         0.0         0.0      7                 3        2       1   \n",
       "1         0.0         0.0      7                 2        2       1   \n",
       "2         0.0         0.0      6                 2       10       3   \n",
       "3         5.0         0.0      7                 1        1       2   \n",
       "4         0.0         0.2      6                 2        2       2   \n",
       "\n",
       "   TrafficType  VisitorType  Weekend  Revenue  \n",
       "0            3            2    False    False  \n",
       "1            2            2    False     True  \n",
       "2            3            2    False    False  \n",
       "3            7            2    False    False  \n",
       "4            2            2    False    False  "
      ]
     },
     "execution_count": 6,
     "metadata": {},
     "output_type": "execute_result"
    }
   ],
   "source": [
    "train = pd.read_csv('train.csv')\n",
    "test = pd.read_csv('test.csv')\n",
    "\n",
    "train.head()"
   ]
  },
  {
   "cell_type": "code",
   "execution_count": 7,
   "metadata": {},
   "outputs": [],
   "source": [
    "\n",
    "x_test = test.iloc[:,:-2].to_numpy()\n",
    "y_test = test.iloc[:,-1].to_numpy()\n",
    "\n",
    "x = train.iloc[:,:-2].to_numpy()\n",
    "y = train.iloc[:,-1].to_numpy()"
   ]
  },
  {
   "cell_type": "markdown",
   "metadata": {},
   "source": [
    "# Multi-layer Perceptron Classifier"
   ]
  },
  {
   "cell_type": "code",
   "execution_count": 10,
   "metadata": {},
   "outputs": [
    {
     "name": "stdout",
     "output_type": "stream",
     "text": [
      "accuracy_score:   \t 0.8736790366183338 \n",
      "precision_score:\t 0.6549520766773163 \n",
      "recall_score:   \t 0.5790960451977402 \n",
      "f1_score:       \t 0.6146926536731635\n",
      "confusion_matrix:\n",
      " [[3145  216]\n",
      " [ 298  410]]\n"
     ]
    },
    {
     "name": "stderr",
     "output_type": "stream",
     "text": [
      "/media/amir/Third/Applied_Machine_Learning_S20_Assignments/aml_env/lib/python3.6/site-packages/sklearn/neural_network/_multilayer_perceptron.py:585: ConvergenceWarning: Stochastic Optimizer: Maximum iterations (200) reached and the optimization hasn't converged yet.\n",
      "  % self.max_iter, ConvergenceWarning)\n"
     ]
    }
   ],
   "source": [
    "clf = MLPClassifier()\n",
    "clf.fit(x, y)\n",
    "y_pred = clf.predict(x_test)\n",
    "print('accuracy_score:   \\t', accuracy_score(y_pred, y_test),\n",
    "      '\\nprecision_score:\\t', precision_score(y_pred, y_test),\n",
    "      '\\nrecall_score:   \\t', recall_score(y_pred, y_test),\n",
    "      '\\nf1_score:       \\t', f1_score(y_pred, y_test))\n",
    "print('confusion_matrix:\\n',confusion_matrix(y_pred, y_test))"
   ]
  },
  {
   "cell_type": "markdown",
   "metadata": {},
   "source": [
    "# Support Vector Machine"
   ]
  },
  {
   "cell_type": "code",
   "execution_count": 11,
   "metadata": {},
   "outputs": [
    {
     "name": "stdout",
     "output_type": "stream",
     "text": [
      "accuracy_score:   \t 0.8876873924797247 \n",
      "precision_score:\t 0.426517571884984 \n",
      "recall_score:   \t 0.7315068493150685 \n",
      "f1_score:       \t 0.5388496468213925\n",
      "confusion_matrix:\n",
      " [[3345  359]\n",
      " [  98  267]]\n"
     ]
    }
   ],
   "source": [
    "clf = SVC(kernel='rbf')\n",
    "clf.fit(x, y)\n",
    "y_pred = clf.predict(x_test)\n",
    "print('accuracy_score:   \\t', accuracy_score(y_pred, y_test),\n",
    "      '\\nprecision_score:\\t', precision_score(y_pred, y_test),\n",
    "      '\\nrecall_score:   \\t', recall_score(y_pred, y_test),\n",
    "      '\\nf1_score:       \\t', f1_score(y_pred, y_test))\n",
    "print('confusion_matrix:\\n',confusion_matrix(y_pred, y_test))"
   ]
  },
  {
   "cell_type": "markdown",
   "metadata": {},
   "source": [
    "# Gaussian Naive Bayes"
   ]
  },
  {
   "cell_type": "code",
   "execution_count": 12,
   "metadata": {},
   "outputs": [
    {
     "name": "stdout",
     "output_type": "stream",
     "text": [
      "accuracy_score:   \t 0.7645613172769722 \n",
      "precision_score:\t 0.7987220447284346 \n",
      "recall_score:   \t 0.37537537537537535 \n",
      "f1_score:       \t 0.5107252298263534\n",
      "confusion_matrix:\n",
      " [[2611  126]\n",
      " [ 832  500]]\n"
     ]
    }
   ],
   "source": [
    "clf = GaussianNB()\n",
    "clf.fit(x, y)\n",
    "y_pred = clf.predict(x_test)\n",
    "print('accuracy_score:   \\t', accuracy_score(y_pred, y_test),\n",
    "      '\\nprecision_score:\\t', precision_score(y_pred, y_test),\n",
    "      '\\nrecall_score:   \\t', recall_score(y_pred, y_test),\n",
    "      '\\nf1_score:       \\t', f1_score(y_pred, y_test))\n",
    "print('confusion_matrix:\\n',confusion_matrix(y_pred, y_test))"
   ]
  },
  {
   "cell_type": "markdown",
   "metadata": {},
   "source": [
    "# Bernoulli Naive Bayes"
   ]
  },
  {
   "cell_type": "code",
   "execution_count": 13,
   "metadata": {},
   "outputs": [
    {
     "name": "stdout",
     "output_type": "stream",
     "text": [
      "accuracy_score:   \t 0.856475792578029 \n",
      "precision_score:\t 0.5638977635782748 \n",
      "recall_score:   \t 0.5316265060240963 \n",
      "f1_score:       \t 0.5472868217054263\n",
      "confusion_matrix:\n",
      " [[3132  273]\n",
      " [ 311  353]]\n"
     ]
    }
   ],
   "source": [
    "clf = BernoulliNB()\n",
    "clf.fit(x, y)\n",
    "y_pred = clf.predict(x_test)\n",
    "print('accuracy_score:   \\t', accuracy_score(y_pred, y_test),\n",
    "      '\\nprecision_score:\\t', precision_score(y_pred, y_test),\n",
    "      '\\nrecall_score:   \\t', recall_score(y_pred, y_test),\n",
    "      '\\nf1_score:       \\t', f1_score(y_pred, y_test))\n",
    "print('confusion_matrix:\\n',confusion_matrix(y_pred, y_test))"
   ]
  }
 ],
 "metadata": {
  "kernelspec": {
   "display_name": "aml_env",
   "language": "python",
   "name": "aml_env"
  },
  "language_info": {
   "codemirror_mode": {
    "name": "ipython",
    "version": 3
   },
   "file_extension": ".py",
   "mimetype": "text/x-python",
   "name": "python",
   "nbconvert_exporter": "python",
   "pygments_lexer": "ipython3",
   "version": "3.6.9"
  }
 },
 "nbformat": 4,
 "nbformat_minor": 4
}
